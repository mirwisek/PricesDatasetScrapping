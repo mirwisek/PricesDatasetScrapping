{
 "cells": [
  {
   "cell_type": "code",
   "execution_count": 14,
   "metadata": {},
   "outputs": [],
   "source": [
    "from selenium import webdriver"
   ]
  },
  {
   "cell_type": "code",
   "execution_count": 15,
   "metadata": {},
   "outputs": [],
   "source": [
    "from selenium.webdriver.common.keys import Keys"
   ]
  },
  {
   "cell_type": "code",
   "execution_count": 16,
   "metadata": {},
   "outputs": [],
   "source": [
    "from selenium.webdriver.support.ui import WebDriverWait\n",
    "from selenium.webdriver.common.by import By\n",
    "from selenium.common.exceptions import TimeoutException\n",
    "from selenium.webdriver.support import expected_conditions as ec"
   ]
  },
  {
   "cell_type": "code",
   "execution_count": 17,
   "metadata": {},
   "outputs": [],
   "source": [
    "from selenium.webdriver.support.ui import Select\n",
    "import time\n",
    "import os"
   ]
  },
  {
   "cell_type": "code",
   "execution_count": 45,
   "metadata": {},
   "outputs": [],
   "source": [
    "def select_checkbox(checkbox):\n",
    "    global driver\n",
    "    if not checkbox.is_selected():\n",
    "        driver.execute_script('arguments[0].click()', checkbox)"
   ]
  },
  {
   "cell_type": "code",
   "execution_count": 46,
   "metadata": {},
   "outputs": [],
   "source": [
    "def fetch_results(driver):\n",
    "    dir = r'C:\\Users\\Mirwi\\Downloads'\n",
    "    file = os.path.join(dir, 'CityWiseComparison.csv')\n",
    "    title = ''\n",
    "    \n",
    "    for i in range(2,142):\n",
    "        try:\n",
    "            # GENERATE AN ID\n",
    "            city_id = 'ReportViewer1_ctl00_ctl07_ctl03_ctl' + f'{i:02}'\n",
    "            # SELECT CITY\n",
    "            city = driver.find_element_by_id(city_id)\n",
    "            select_checkbox(city)\n",
    "            # SELECT ALL (YEAR)\n",
    "            year = driver.find_element_by_id('ReportViewer1_ctl00_ctl03_ctl03_ctl00')\n",
    "            select_checkbox(year)\n",
    "            # SELECT ALL (MONTH)\n",
    "            month = driver.find_element_by_id('ReportViewer1_ctl00_ctl05_ctl03_ctl00')\n",
    "            select_checkbox(month)\n",
    "            # SELECT ALL (CROPS)\n",
    "            crops = driver.find_element_by_id('ReportViewer1_ctl00_ctl09_ctl03_ctl00')\n",
    "            select_checkbox(crops)\n",
    "\n",
    "            view_report = driver.find_element_by_id('ReportViewer1_ctl00_ctl00')\n",
    "            \n",
    "            city_label = driver.find_element_by_xpath(f'//label[@for=\"{city_id}\"]')\n",
    "            title = city_label.get_attribute('innerHTML')\n",
    "            print('working on ', title)\n",
    "            view_report.click()\n",
    "            if WebDriverWait(driver,240).until(ec.visibility_of_all_elements_located(\n",
    "                (By.ID, 'ReportViewer1_ctl01_ctl05_ctl00'))):\n",
    "                \n",
    "                export_select = Select(driver.find_element_by_id('ReportViewer1_ctl01_ctl05_ctl00'))\n",
    "                export = driver.find_element_by_id('ReportViewer1_ctl01_ctl05_ctl01')\n",
    "                # Get the title for the file\n",
    "                name = title + '.csv'\n",
    "                file_name = os.path.join(dir, name)\n",
    "                # Keeps changing on page refresh makesure to update it\n",
    "                export_select.select_by_value('CSV')\n",
    "\n",
    "                window_before = driver.window_handles[0]\n",
    "                export.click()\n",
    "                print(f'Downloading {name}',end='')\n",
    "                while True:\n",
    "                    print('.',end='')\n",
    "                    if os.path.isfile(file + '.part'):\n",
    "                        time.sleep(10)\n",
    "                    elif os.path.isfile(file):\n",
    "                        break\n",
    "                    else:\n",
    "                        time.sleep(10)\n",
    "                print(\"Renaming to file...\")\n",
    "                os.rename(file, file_name)\n",
    "                print('Done with ', file_name)\n",
    "                driver.switch_to.window(window_before)\n",
    "                WebDriverWait(driver, 20).until(ec.title_contains(\"Untitled\"))\n",
    "        except TimeoutException as e:\n",
    "            print('Timeout for file::',title)\n",
    "        "
   ]
  },
  {
   "cell_type": "code",
   "execution_count": 47,
   "metadata": {
    "scrolled": true
   },
   "outputs": [
    {
     "name": "stdout",
     "output_type": "stream",
     "text": [
      "starting\n",
      "working on  Okara\n",
      "Downloading Okara.csv...........................................Renaming to file...\n",
      "Done with  C:\\Users\\Mirwi\\Downloads\\Okara.csv\n",
      "working on  Attock\n",
      "Downloading Attock.csv..............................................Renaming to file...\n",
      "Done with  C:\\Users\\Mirwi\\Downloads\\Attock.csv\n",
      "working on  Eminabad\n",
      "Downloading Eminabad.csv................................................Renaming to file...\n",
      "Done with  C:\\Users\\Mirwi\\Downloads\\Eminabad.csv\n",
      "working on  Badomalhi\n",
      "Downloading Badomalhi.csv......................"
     ]
    },
    {
     "ename": "KeyboardInterrupt",
     "evalue": "",
     "output_type": "error",
     "traceback": [
      "\u001b[1;31m---------------------------------------------------------------------------\u001b[0m",
      "\u001b[1;31mKeyboardInterrupt\u001b[0m                         Traceback (most recent call last)",
      "\u001b[1;32m<ipython-input-47-4b0f6513539d>\u001b[0m in \u001b[0;36m<module>\u001b[1;34m\u001b[0m\n\u001b[0;32m      6\u001b[0m \u001b[0mprint\u001b[0m\u001b[1;33m(\u001b[0m\u001b[1;34m'starting'\u001b[0m\u001b[1;33m)\u001b[0m\u001b[1;33m\u001b[0m\u001b[1;33m\u001b[0m\u001b[0m\n\u001b[0;32m      7\u001b[0m \u001b[0mdriver\u001b[0m\u001b[1;33m.\u001b[0m\u001b[0mset_page_load_timeout\u001b[0m\u001b[1;33m(\u001b[0m\u001b[1;36m3600\u001b[0m\u001b[1;33m)\u001b[0m\u001b[1;33m\u001b[0m\u001b[1;33m\u001b[0m\u001b[0m\n\u001b[1;32m----> 8\u001b[1;33m \u001b[0mfetch_results\u001b[0m\u001b[1;33m(\u001b[0m\u001b[0mdriver\u001b[0m\u001b[1;33m)\u001b[0m\u001b[1;33m\u001b[0m\u001b[1;33m\u001b[0m\u001b[0m\n\u001b[0m\u001b[0;32m      9\u001b[0m \u001b[0mdriver\u001b[0m\u001b[1;33m.\u001b[0m\u001b[0mquit\u001b[0m\u001b[1;33m(\u001b[0m\u001b[1;33m)\u001b[0m\u001b[1;33m\u001b[0m\u001b[1;33m\u001b[0m\u001b[0m\n",
      "\u001b[1;32m<ipython-input-46-5163e85ff9f7>\u001b[0m in \u001b[0;36mfetch_results\u001b[1;34m(driver)\u001b[0m\n\u001b[0;32m     44\u001b[0m                     \u001b[0mprint\u001b[0m\u001b[1;33m(\u001b[0m\u001b[1;34m'.'\u001b[0m\u001b[1;33m,\u001b[0m\u001b[0mend\u001b[0m\u001b[1;33m=\u001b[0m\u001b[1;34m''\u001b[0m\u001b[1;33m)\u001b[0m\u001b[1;33m\u001b[0m\u001b[1;33m\u001b[0m\u001b[0m\n\u001b[0;32m     45\u001b[0m                     \u001b[1;32mif\u001b[0m \u001b[0mos\u001b[0m\u001b[1;33m.\u001b[0m\u001b[0mpath\u001b[0m\u001b[1;33m.\u001b[0m\u001b[0misfile\u001b[0m\u001b[1;33m(\u001b[0m\u001b[0mfile\u001b[0m \u001b[1;33m+\u001b[0m \u001b[1;34m'.part'\u001b[0m\u001b[1;33m)\u001b[0m\u001b[1;33m:\u001b[0m\u001b[1;33m\u001b[0m\u001b[1;33m\u001b[0m\u001b[0m\n\u001b[1;32m---> 46\u001b[1;33m                         \u001b[0mtime\u001b[0m\u001b[1;33m.\u001b[0m\u001b[0msleep\u001b[0m\u001b[1;33m(\u001b[0m\u001b[1;36m10\u001b[0m\u001b[1;33m)\u001b[0m\u001b[1;33m\u001b[0m\u001b[1;33m\u001b[0m\u001b[0m\n\u001b[0m\u001b[0;32m     47\u001b[0m                     \u001b[1;32melif\u001b[0m \u001b[0mos\u001b[0m\u001b[1;33m.\u001b[0m\u001b[0mpath\u001b[0m\u001b[1;33m.\u001b[0m\u001b[0misfile\u001b[0m\u001b[1;33m(\u001b[0m\u001b[0mfile\u001b[0m\u001b[1;33m)\u001b[0m\u001b[1;33m:\u001b[0m\u001b[1;33m\u001b[0m\u001b[1;33m\u001b[0m\u001b[0m\n\u001b[0;32m     48\u001b[0m                         \u001b[1;32mbreak\u001b[0m\u001b[1;33m\u001b[0m\u001b[1;33m\u001b[0m\u001b[0m\n",
      "\u001b[1;31mKeyboardInterrupt\u001b[0m: "
     ]
    }
   ],
   "source": [
    "profile = webdriver.FirefoxProfile()\n",
    "profile.set_preference(\"browser.helperApps.neverAsk.saveToDisk\", \"text/csv\")\n",
    "\n",
    "driver = webdriver.Firefox(profile)\n",
    "driver.get(\"http://www.amis.pk/Reports/CityWiseComparison.aspx\")\n",
    "print('starting')\n",
    "driver.set_page_load_timeout(3600)\n",
    "fetch_results(driver)\n",
    "driver.quit()"
   ]
  },
  {
   "cell_type": "code",
   "execution_count": null,
   "metadata": {},
   "outputs": [],
   "source": []
  }
 ],
 "metadata": {
  "kernelspec": {
   "display_name": "Python 3",
   "language": "python",
   "name": "python3"
  },
  "language_info": {
   "codemirror_mode": {
    "name": "ipython",
    "version": 3
   },
   "file_extension": ".py",
   "mimetype": "text/x-python",
   "name": "python",
   "nbconvert_exporter": "python",
   "pygments_lexer": "ipython3",
   "version": "3.7.2"
  }
 },
 "nbformat": 4,
 "nbformat_minor": 2
}
